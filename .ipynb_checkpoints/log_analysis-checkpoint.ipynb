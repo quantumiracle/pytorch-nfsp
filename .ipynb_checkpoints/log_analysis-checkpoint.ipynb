{
 "cells": [
  {
   "cell_type": "code",
   "execution_count": 46,
   "id": "steady-unknown",
   "metadata": {},
   "outputs": [
    {
     "name": "stdout",
     "output_type": "stream",
     "text": [
      "20210407_2318.log  20210412_0103.log  20210413_0346.log  20210414_0103.log\r\n",
      "20210412_0102.log  20210413_0343.log  20210413_0545.log  20210414_0105.log\r\n"
     ]
    }
   ],
   "source": [
    "import numpy as np\n",
    "import os\n",
    "path = './log/'\n",
    "!ls $path"
   ]
  },
  {
   "cell_type": "code",
   "execution_count": 50,
   "id": "standard-highway",
   "metadata": {},
   "outputs": [],
   "source": [
    "import matplotlib.pyplot as plt\n",
    "import matplotlib\n",
    "def smooth(y, radius=10, mode='two_sided'):\n",
    "    if len(y) < 2*radius+1:\n",
    "        return np.ones_like(y) * y.mean()\n",
    "    elif mode == 'two_sided':\n",
    "        convkernel = np.ones(2 * radius+1)\n",
    "        return np.convolve(y, convkernel, mode='same') / \\\n",
    "               np.convolve(np.ones_like(y), convkernel, mode='same')\n",
    "    elif mode == 'causal':\n",
    "        convkernel = np.ones(radius)\n",
    "        out = np.convolve(y, convkernel,mode='full') / \\\n",
    "              np.convolve(np.ones_like(y), convkernel, mode='full')\n",
    "        return out[:-radius+1]\n",
    "\n",
    "def plot(content):\n",
    "    avg_len_l = []\n",
    "    avg_r_l = []\n",
    "    for i, x in enumerate(content):\n",
    "        if i < 32:\n",
    "            print(x[:-1])  # remove the last '\\n'\n",
    "        if 'Frame' in x:\n",
    "            try:\n",
    "                avg_len = float(x.split('Avg. Length:')[-1])\n",
    "            except:\n",
    "                avg_len = 0\n",
    "            avg_len_l.append(avg_len)\n",
    "            avg_r = float(x.split('Avg. Reward:')[-1].split(',')[0])\n",
    "            avg_r_l.append(avg_r)\n",
    "\n",
    "    fig, axs = plt.subplots(2)\n",
    "    axs[0].plot(smooth(avg_r_l, radius=10))\n",
    "    axs[1].plot(smooth(avg_len_l, radius=10))\n",
    "    print(len(avg_len_l))\n"
   ]
  },
  {
   "cell_type": "code",
   "execution_count": 51,
   "id": "surface-heading",
   "metadata": {},
   "outputs": [
    {
     "name": "stdout",
     "output_type": "stream",
     "text": [
      "                          Options\n",
      "                          seed: 1122\n",
      "                          batch_size: 32\n",
      "                          no_cuda: False\n",
      "                          max_frames: 10000000\n",
      "                          buffer_size: 100000\n",
      "                          update_target: 1000\n",
      "                          train_freq: 1\n",
      "                          gamma: 0.99\n",
      "                          eta: 0.1\n",
      "                          rl_start: 10000\n",
      "                          sl_start: 1000\n",
      "                          hidden_dim: 256\n",
      "                          dueling: False\n",
      "                          multi_step: 1\n",
      "                          env: SlimeVolley-v0\n",
      "                          negative: False\n",
      "                          load_model: None\n",
      "                          save_model: model\n",
      "                          evaluate: False\n",
      "                          render: False\n",
      "                          evaluation_interval: 10000\n",
      "                          lr: 0.0001\n",
      "                          max_tag_interval: 1000\n",
      "                          eps_start: 1.0\n",
      "                          eps_final: 0.01\n",
      "                          eps_decay: 30000\n",
      "                          cuda: True\n",
      "                          device: cuda:0\n",
      "Box(-3.4028234663852886e+38, 3.4028234663852886e+38, (12,), float32) Discrete(6)\n",
      "Frame: 10000, Avg. Reward: -4.733, Avg. RL Loss: nan, Avg. Length: 645.7\n",
      "Frame: 20000, Avg. Reward: -4.882, Avg. RL Loss: 0.004, Avg. Length: 600.6\n",
      "1000\n"
     ]
    },
    {
     "data": {
      "image/png": "[encoded data removed]",
      "text/plain": [
       "<Figure size 432x288 with 2 Axes>"
      ]
     },
     "metadata": {
      "needs_background": "light"
     },
     "output_type": "display_data"
    }
   ],
   "source": [
    "filename = '20210414_0105.log'\n",
    "\n",
    "f = open(os.path.join(path, filename), \"r\")\n",
    "content = f.readlines()\n",
    "\n",
    "plot(content)\n"
   ]
  },
  {
   "cell_type": "code",
   "execution_count": 52,
   "id": "municipal-persian",
   "metadata": {},
   "outputs": [
    {
     "name": "stdout",
     "output_type": "stream",
     "text": [
      "                          Options\n",
      "                          seed: 1122\n",
      "                          batch_size: 32\n",
      "                          no_cuda: False\n",
      "                          max_frames: 30000000\n",
      "                          buffer_size: 100000\n",
      "                          update_target: 1000\n",
      "                          train_freq: 1\n",
      "                          gamma: 0.99\n",
      "                          eta: 0.1\n",
      "                          rl_start: 10000\n",
      "                          sl_start: 1000\n",
      "                          hidden_dim: 512\n",
      "                          dueling: False\n",
      "                          multi_step: 1\n",
      "                          env: SlimeVolleyNoFrameskip-v0\n"
     ]
    },
    {
     "ename": "ValueError",
     "evalue": "could not convert string to float: '                          env: SlimeVolleyNoFrameskip-v0\\n'",
     "output_type": "error",
     "traceback": [
      "\u001b[0;31m---------------------------------------------------------------------------\u001b[0m",
      "\u001b[0;31mValueError\u001b[0m                                Traceback (most recent call last)",
      "\u001b[0;32m<ipython-input-52-2fa8a3e7a959>\u001b[0m in \u001b[0;36m<module>\u001b[0;34m\u001b[0m\n\u001b[1;32m      4\u001b[0m \u001b[0mcontent\u001b[0m \u001b[0;34m=\u001b[0m \u001b[0mf\u001b[0m\u001b[0;34m.\u001b[0m\u001b[0mreadlines\u001b[0m\u001b[0;34m(\u001b[0m\u001b[0;34m)\u001b[0m\u001b[0;34m\u001b[0m\u001b[0;34m\u001b[0m\u001b[0m\n\u001b[1;32m      5\u001b[0m \u001b[0;34m\u001b[0m\u001b[0m\n\u001b[0;32m----> 6\u001b[0;31m \u001b[0mplot\u001b[0m\u001b[0;34m(\u001b[0m\u001b[0mcontent\u001b[0m\u001b[0;34m)\u001b[0m\u001b[0;34m\u001b[0m\u001b[0;34m\u001b[0m\u001b[0m\n\u001b[0m",
      "\u001b[0;32m<ipython-input-50-5c561903dfc3>\u001b[0m in \u001b[0;36mplot\u001b[0;34m(content)\u001b[0m\n\u001b[1;32m     21\u001b[0m             \u001b[0mprint\u001b[0m\u001b[0;34m(\u001b[0m\u001b[0mx\u001b[0m\u001b[0;34m[\u001b[0m\u001b[0;34m:\u001b[0m\u001b[0;34m-\u001b[0m\u001b[0;36m1\u001b[0m\u001b[0;34m]\u001b[0m\u001b[0;34m)\u001b[0m  \u001b[0;31m# remove the last '\\n'\u001b[0m\u001b[0;34m\u001b[0m\u001b[0;34m\u001b[0m\u001b[0m\n\u001b[1;32m     22\u001b[0m         \u001b[0;32mif\u001b[0m \u001b[0;34m'Frame'\u001b[0m \u001b[0;32min\u001b[0m \u001b[0mx\u001b[0m\u001b[0;34m:\u001b[0m\u001b[0;34m\u001b[0m\u001b[0;34m\u001b[0m\u001b[0m\n\u001b[0;32m---> 23\u001b[0;31m             \u001b[0mavg_len\u001b[0m \u001b[0;34m=\u001b[0m \u001b[0mfloat\u001b[0m\u001b[0;34m(\u001b[0m\u001b[0mx\u001b[0m\u001b[0;34m.\u001b[0m\u001b[0msplit\u001b[0m\u001b[0;34m(\u001b[0m\u001b[0;34m'Avg. Length:'\u001b[0m\u001b[0;34m)\u001b[0m\u001b[0;34m[\u001b[0m\u001b[0;34m-\u001b[0m\u001b[0;36m1\u001b[0m\u001b[0;34m]\u001b[0m\u001b[0;34m)\u001b[0m\u001b[0;34m\u001b[0m\u001b[0;34m\u001b[0m\u001b[0m\n\u001b[0m\u001b[1;32m     24\u001b[0m             \u001b[0mavg_len_l\u001b[0m\u001b[0;34m.\u001b[0m\u001b[0mappend\u001b[0m\u001b[0;34m(\u001b[0m\u001b[0mavg_len\u001b[0m\u001b[0;34m)\u001b[0m\u001b[0;34m\u001b[0m\u001b[0;34m\u001b[0m\u001b[0m\n\u001b[1;32m     25\u001b[0m             \u001b[0mavg_r\u001b[0m \u001b[0;34m=\u001b[0m \u001b[0mfloat\u001b[0m\u001b[0;34m(\u001b[0m\u001b[0mx\u001b[0m\u001b[0;34m.\u001b[0m\u001b[0msplit\u001b[0m\u001b[0;34m(\u001b[0m\u001b[0;34m'Avg. Reward:'\u001b[0m\u001b[0;34m)\u001b[0m\u001b[0;34m[\u001b[0m\u001b[0;34m-\u001b[0m\u001b[0;36m1\u001b[0m\u001b[0;34m]\u001b[0m\u001b[0;34m.\u001b[0m\u001b[0msplit\u001b[0m\u001b[0;34m(\u001b[0m\u001b[0;34m','\u001b[0m\u001b[0;34m)\u001b[0m\u001b[0;34m[\u001b[0m\u001b[0;36m0\u001b[0m\u001b[0;34m]\u001b[0m\u001b[0;34m)\u001b[0m\u001b[0;34m\u001b[0m\u001b[0;34m\u001b[0m\u001b[0m\n",
      "\u001b[0;31mValueError\u001b[0m: could not convert string to float: '                          env: SlimeVolleyNoFrameskip-v0\\n'"
     ]
    }
   ],
   "source": [
    "filename = '20210414_0103.log'\n",
    "\n",
    "f = open(os.path.join(path, filename), \"r\")\n",
    "content = f.readlines()\n",
    "\n",
    "plot(content)\n"
   ]
  },
  {
   "cell_type": "code",
   "execution_count": null,
   "id": "american-fellow",
   "metadata": {},
   "outputs": [],
   "source": []
  }
 ],
 "metadata": {
  "kernelspec": {
   "display_name": "Python 3",
   "language": "python",
   "name": "python3"
  },
  "language_info": {
   "codemirror_mode": {
    "name": "ipython",
    "version": 3
   },
   "file_extension": ".py",
   "mimetype": "text/x-python",
   "name": "python",
   "nbconvert_exporter": "python",
   "pygments_lexer": "ipython3",
   "version": "3.7.10"
  }
 },
 "nbformat": 4,
 "nbformat_minor": 5
}
