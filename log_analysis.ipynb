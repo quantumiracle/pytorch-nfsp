{
 "cells": [
  {
   "cell_type": "code",
   "execution_count": 46,
   "id": "paperback-center",
   "metadata": {},
   "outputs": [
    {
     "name": "stdout",
     "output_type": "stream",
     "text": [
      "20210407_2318.log  20210412_0103.log  20210413_0346.log  20210414_0103.log\r\n",
      "20210412_0102.log  20210413_0343.log  20210413_0545.log  20210414_0105.log\r\n"
     ]
    }
   ],
   "source": [
    "import numpy as np\n",
    "import os\n",
    "path = './log/'\n",
    "!ls $path"
   ]
  },
  {
   "cell_type": "code",
   "execution_count": 57,
   "id": "nonprofit-carolina",
   "metadata": {},
   "outputs": [],
   "source": [
    "import matplotlib.pyplot as plt\n",
    "import matplotlib\n",
    "def smooth(y, radius=10, mode='two_sided'):\n",
    "    if len(y) < 2*radius+1:\n",
    "        return np.ones_like(y) * y.mean()\n",
    "    elif mode == 'two_sided':\n",
    "        convkernel = np.ones(2 * radius+1)\n",
    "        return np.convolve(y, convkernel, mode='same') / \\\n",
    "               np.convolve(np.ones_like(y), convkernel, mode='same')\n",
    "    elif mode == 'causal':\n",
    "        convkernel = np.ones(radius)\n",
    "        out = np.convolve(y, convkernel,mode='full') / \\\n",
    "              np.convolve(np.ones_like(y), convkernel, mode='full')\n",
    "        return out[:-radius+1]\n",
    "\n",
    "def plot(content):\n",
    "    avg_len_l = []\n",
    "    avg_r_l = []\n",
    "    for i, x in enumerate(content):\n",
    "        if i < 32:\n",
    "            print(x[:-1])  # remove the last '\\n'\n",
    "        if 'Frame:' in x:\n",
    "            try:\n",
    "                avg_len = float(x.split('Avg. Length:')[-1])\n",
    "            except:\n",
    "                avg_len = 0\n",
    "            avg_len_l.append(avg_len)\n",
    "            avg_r = float(x.split('Avg. Reward:')[-1].split(',')[0])\n",
    "            avg_r_l.append(avg_r)\n",
    "\n",
    "    fig, axs = plt.subplots(2)\n",
    "    axs[0].plot(smooth(avg_r_l, radius=10))\n",
    "    axs[1].plot(smooth(avg_len_l, radius=10))\n",
    "    print(len(avg_len_l))\n"
   ]
  },
  {
   "cell_type": "code",
   "execution_count": 58,
   "id": "african-digest",
   "metadata": {
    "scrolled": true
   },
   "outputs": [
    {
     "name": "stdout",
     "output_type": "stream",
     "text": [
      "                          Options\n",
      "                          seed: 1122\n",
      "                          batch_size: 32\n",
      "                          no_cuda: False\n",
      "                          max_frames: 10000000\n",
      "                          buffer_size: 100000\n",
      "                          update_target: 1000\n",
      "                          train_freq: 1\n",
      "                          gamma: 0.99\n",
      "                          eta: 0.1\n",
      "                          rl_start: 10000\n",
      "                          sl_start: 1000\n",
      "                          hidden_dim: 256\n",
      "                          dueling: False\n",
      "                          multi_step: 1\n",
      "                          env: SlimeVolley-v0\n",
      "                          negative: False\n",
      "                          load_model: None\n",
      "                          save_model: model\n",
      "                          evaluate: False\n",
      "                          render: False\n",
      "                          evaluation_interval: 10000\n",
      "                          lr: 0.0001\n",
      "                          max_tag_interval: 1000\n",
      "                          eps_start: 1.0\n",
      "                          eps_final: 0.01\n",
      "                          eps_decay: 30000\n",
      "                          cuda: True\n",
      "                          device: cuda:0\n",
      "Box(-3.4028234663852886e+38, 3.4028234663852886e+38, (12,), float32) Discrete(6)\n",
      "Frame: 10000, Avg. Reward: -4.733, Avg. RL Loss: nan, Avg. Length: 645.7\n",
      "Frame: 20000, Avg. Reward: -4.882, Avg. RL Loss: 0.004, Avg. Length: 600.6\n",
      "1000\n"
     ]
    },
    {
     "data": {
      "image/png": "[encoded data removed]",
      "text/plain": [
       "<Figure size 432x288 with 2 Axes>"
      ]
     },
     "metadata": {
      "needs_background": "light"
     },
     "output_type": "display_data"
    }
   ],
   "source": [
    "filename = '20210414_0105.log'\n",
    "\n",
    "f = open(os.path.join(path, filename), \"r\")\n",
    "content = f.readlines()\n",
    "\n",
    "plot(content)\n"
   ]
  },
  {
   "cell_type": "code",
   "execution_count": 60,
   "id": "exotic-spotlight",
   "metadata": {},
   "outputs": [
    {
     "name": "stdout",
     "output_type": "stream",
     "text": [
      "                          Options\n",
      "                          seed: 1122\n",
      "                          batch_size: 32\n",
      "                          no_cuda: False\n",
      "                          max_frames: 30000000\n",
      "                          buffer_size: 100000\n",
      "                          update_target: 1000\n",
      "                          train_freq: 1\n",
      "                          gamma: 0.99\n",
      "                          eta: 0.1\n",
      "                          rl_start: 10000\n",
      "                          sl_start: 1000\n",
      "                          hidden_dim: 512\n",
      "                          dueling: False\n",
      "                          multi_step: 1\n",
      "                          env: SlimeVolleyNoFrameskip-v0\n",
      "                          negative: False\n",
      "                          load_model: None\n",
      "                          save_model: model\n",
      "                          evaluate: False\n",
      "                          render: False\n",
      "                          evaluation_interval: 10000\n",
      "                          lr: 0.0001\n",
      "                          max_tag_interval: 1000\n",
      "                          eps_start: 1.0\n",
      "                          eps_final: 0.01\n",
      "                          eps_decay: 30000\n",
      "                          cuda: True\n",
      "                          device: cuda:0\n",
      "Box(0, 1, (4, 84, 84), uint8) Discrete(6)\n",
      "Frame: 10000, Avg. Reward: -4.859, Avg. RL Loss: nan, Avg. Length: 139.9\n",
      "Frame: 20000, Avg. Reward: -4.826, Avg. RL Loss: 0.005, Avg. Length: 145.3\n",
      "306\n"
     ]
    },
    {
     "data": {
      "image/png": "[encoded data removed]",
      "text/plain": [
       "<Figure size 432x288 with 2 Axes>"
      ]
     },
     "metadata": {
      "needs_background": "light"
     },
     "output_type": "display_data"
    }
   ],
   "source": [
    "filename = '20210414_0103.log'\n",
    "\n",
    "f = open(os.path.join(path, filename), \"r\")\n",
    "content = f.readlines()\n",
    "\n",
    "plot(content)\n"
   ]
  },
  {
   "cell_type": "code",
   "execution_count": 112,
   "id": "superior-attachment",
   "metadata": {},
   "outputs": [
    {
     "name": "stdout",
     "output_type": "stream",
     "text": [
      "[([1], 3), ([2], 4), ([1], 3), ([2], 4)]\n"
     ]
    }
   ],
   "source": [
    "a=[[1],[2]]\n",
    "c=[3,4]\n",
    "b=[]\n",
    "b.extend([*zip(a,c)])\n",
    "b.extend([*zip(a,c)])\n",
    "print(b)"
   ]
  },
  {
   "cell_type": "code",
   "execution_count": null,
   "id": "introductory-click",
   "metadata": {},
   "outputs": [],
   "source": []
  }
 ],
 "metadata": {
  "kernelspec": {
   "display_name": "Python 3",
   "language": "python",
   "name": "python3"
  },
  "language_info": {
   "codemirror_mode": {
    "name": "ipython",
    "version": 3
   },
   "file_extension": ".py",
   "mimetype": "text/x-python",
   "name": "python",
   "nbconvert_exporter": "python",
   "pygments_lexer": "ipython3",
   "version": "3.7.10"
  }
 },
 "nbformat": 4,
 "nbformat_minor": 5
}
